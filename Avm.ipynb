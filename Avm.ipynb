{
  "nbformat": 4,
  "nbformat_minor": 0,
  "metadata": {
    "colab": {
      "provenance": []
    },
    "kernelspec": {
      "name": "python3",
      "display_name": "Python 3"
    },
    "language_info": {
      "name": "python"
    }
  },
  "cells": [
    {
      "cell_type": "code",
      "execution_count": 1,
      "metadata": {
        "id": "AcsU07BR3mJH"
      },
      "outputs": [],
      "source": [
        "import json\n",
        "import csv\n",
        "import numpy as np\n",
        "import seaborn as sns\n",
        "import pandas as pd\n",
        "import matplotlib.pyplot as plt\n",
        "from os.path import exists\n",
        "import statistics"
      ]
    },
    {
      "cell_type": "code",
      "source": [
        "from google.colab import drive\n",
        "drive.mount('drive')"
      ],
      "metadata": {
        "colab": {
          "base_uri": "https://localhost:8080/"
        },
        "id": "yBpYV1Bb3t_t",
        "outputId": "9eee0a7a-384f-4ea0-d0d4-22d46c0f2796"
      },
      "execution_count": 2,
      "outputs": [
        {
          "output_type": "stream",
          "name": "stdout",
          "text": [
            "Mounted at drive\n"
          ]
        }
      ]
    },
    {
      "cell_type": "code",
      "source": [
        "comp=pd.read_json(\"drive/MyDrive/MSC_Onlab/open-data-master/data/competitions.json\")\n",
        "\n",
        "comp.dtypes"
      ],
      "metadata": {
        "colab": {
          "base_uri": "https://localhost:8080/"
        },
        "id": "m4suFNuu3w4T",
        "outputId": "cf135366-27a5-4f79-ab5c-d1384976121c"
      },
      "execution_count": 3,
      "outputs": [
        {
          "output_type": "execute_result",
          "data": {
            "text/plain": [
              "competition_id                int64\n",
              "season_id                     int64\n",
              "country_name                 object\n",
              "competition_name             object\n",
              "competition_gender           object\n",
              "competition_youth              bool\n",
              "competition_international      bool\n",
              "season_name                  object\n",
              "match_updated                object\n",
              "match_updated_360            object\n",
              "match_available_360          object\n",
              "match_available              object\n",
              "dtype: object"
            ]
          },
          "metadata": {},
          "execution_count": 3
        }
      ]
    },
    {
      "cell_type": "code",
      "source": [
        "comp =  comp[(comp.competition_gender == \"male\")]\n",
        "comp =  comp[comp[\"season_name\"].str.contains(\"2022\") | comp[\"season_name\"].str.contains(\"2020\") | comp[\"season_name\"].str.contains(\"2020\") | comp[\"season_name\"].str.contains(\"2019\") | comp[\"season_name\"].str.contains(\"2018\")]"
      ],
      "metadata": {
        "id": "KqjlKrVP6E1k"
      },
      "execution_count": 4,
      "outputs": []
    },
    {
      "cell_type": "code",
      "source": [
        "comp[[\"competition_name\",\"season_name\",\"season_id\"]]"
      ],
      "metadata": {
        "colab": {
          "base_uri": "https://localhost:8080/",
          "height": 363
        },
        "id": "dUcyKsLx6VNI",
        "outputId": "932da014-4c48-4a9f-aabb-eed93e0d89dd"
      },
      "execution_count": 16,
      "outputs": [
        {
          "output_type": "execute_result",
          "data": {
            "text/plain": [
              "       competition_name season_name  season_id\n",
              "1      Champions League   2018/2019          4\n",
              "2      Champions League   2017/2018          1\n",
              "26       FIFA World Cup        2022        106\n",
              "27       FIFA World Cup        2018          3\n",
              "34  Indian Super league   2021/2022        108\n",
              "35              La Liga   2020/2021         90\n",
              "36              La Liga   2019/2020         42\n",
              "37              La Liga   2018/2019          4\n",
              "38              La Liga   2017/2018          1\n",
              "62            UEFA Euro        2020         43"
            ],
            "text/html": [
              "\n",
              "  <div id=\"df-fc0e249d-c32e-49c3-a49d-73212b3b5f14\" class=\"colab-df-container\">\n",
              "    <div>\n",
              "<style scoped>\n",
              "    .dataframe tbody tr th:only-of-type {\n",
              "        vertical-align: middle;\n",
              "    }\n",
              "\n",
              "    .dataframe tbody tr th {\n",
              "        vertical-align: top;\n",
              "    }\n",
              "\n",
              "    .dataframe thead th {\n",
              "        text-align: right;\n",
              "    }\n",
              "</style>\n",
              "<table border=\"1\" class=\"dataframe\">\n",
              "  <thead>\n",
              "    <tr style=\"text-align: right;\">\n",
              "      <th></th>\n",
              "      <th>competition_name</th>\n",
              "      <th>season_name</th>\n",
              "      <th>season_id</th>\n",
              "    </tr>\n",
              "  </thead>\n",
              "  <tbody>\n",
              "    <tr>\n",
              "      <th>1</th>\n",
              "      <td>Champions League</td>\n",
              "      <td>2018/2019</td>\n",
              "      <td>4</td>\n",
              "    </tr>\n",
              "    <tr>\n",
              "      <th>2</th>\n",
              "      <td>Champions League</td>\n",
              "      <td>2017/2018</td>\n",
              "      <td>1</td>\n",
              "    </tr>\n",
              "    <tr>\n",
              "      <th>26</th>\n",
              "      <td>FIFA World Cup</td>\n",
              "      <td>2022</td>\n",
              "      <td>106</td>\n",
              "    </tr>\n",
              "    <tr>\n",
              "      <th>27</th>\n",
              "      <td>FIFA World Cup</td>\n",
              "      <td>2018</td>\n",
              "      <td>3</td>\n",
              "    </tr>\n",
              "    <tr>\n",
              "      <th>34</th>\n",
              "      <td>Indian Super league</td>\n",
              "      <td>2021/2022</td>\n",
              "      <td>108</td>\n",
              "    </tr>\n",
              "    <tr>\n",
              "      <th>35</th>\n",
              "      <td>La Liga</td>\n",
              "      <td>2020/2021</td>\n",
              "      <td>90</td>\n",
              "    </tr>\n",
              "    <tr>\n",
              "      <th>36</th>\n",
              "      <td>La Liga</td>\n",
              "      <td>2019/2020</td>\n",
              "      <td>42</td>\n",
              "    </tr>\n",
              "    <tr>\n",
              "      <th>37</th>\n",
              "      <td>La Liga</td>\n",
              "      <td>2018/2019</td>\n",
              "      <td>4</td>\n",
              "    </tr>\n",
              "    <tr>\n",
              "      <th>38</th>\n",
              "      <td>La Liga</td>\n",
              "      <td>2017/2018</td>\n",
              "      <td>1</td>\n",
              "    </tr>\n",
              "    <tr>\n",
              "      <th>62</th>\n",
              "      <td>UEFA Euro</td>\n",
              "      <td>2020</td>\n",
              "      <td>43</td>\n",
              "    </tr>\n",
              "  </tbody>\n",
              "</table>\n",
              "</div>\n",
              "    <div class=\"colab-df-buttons\">\n",
              "\n",
              "  <div class=\"colab-df-container\">\n",
              "    <button class=\"colab-df-convert\" onclick=\"convertToInteractive('df-fc0e249d-c32e-49c3-a49d-73212b3b5f14')\"\n",
              "            title=\"Convert this dataframe to an interactive table.\"\n",
              "            style=\"display:none;\">\n",
              "\n",
              "  <svg xmlns=\"http://www.w3.org/2000/svg\" height=\"24px\" viewBox=\"0 -960 960 960\">\n",
              "    <path d=\"M120-120v-720h720v720H120Zm60-500h600v-160H180v160Zm220 220h160v-160H400v160Zm0 220h160v-160H400v160ZM180-400h160v-160H180v160Zm440 0h160v-160H620v160ZM180-180h160v-160H180v160Zm440 0h160v-160H620v160Z\"/>\n",
              "  </svg>\n",
              "    </button>\n",
              "\n",
              "  <style>\n",
              "    .colab-df-container {\n",
              "      display:flex;\n",
              "      gap: 12px;\n",
              "    }\n",
              "\n",
              "    .colab-df-convert {\n",
              "      background-color: #E8F0FE;\n",
              "      border: none;\n",
              "      border-radius: 50%;\n",
              "      cursor: pointer;\n",
              "      display: none;\n",
              "      fill: #1967D2;\n",
              "      height: 32px;\n",
              "      padding: 0 0 0 0;\n",
              "      width: 32px;\n",
              "    }\n",
              "\n",
              "    .colab-df-convert:hover {\n",
              "      background-color: #E2EBFA;\n",
              "      box-shadow: 0px 1px 2px rgba(60, 64, 67, 0.3), 0px 1px 3px 1px rgba(60, 64, 67, 0.15);\n",
              "      fill: #174EA6;\n",
              "    }\n",
              "\n",
              "    .colab-df-buttons div {\n",
              "      margin-bottom: 4px;\n",
              "    }\n",
              "\n",
              "    [theme=dark] .colab-df-convert {\n",
              "      background-color: #3B4455;\n",
              "      fill: #D2E3FC;\n",
              "    }\n",
              "\n",
              "    [theme=dark] .colab-df-convert:hover {\n",
              "      background-color: #434B5C;\n",
              "      box-shadow: 0px 1px 3px 1px rgba(0, 0, 0, 0.15);\n",
              "      filter: drop-shadow(0px 1px 2px rgba(0, 0, 0, 0.3));\n",
              "      fill: #FFFFFF;\n",
              "    }\n",
              "  </style>\n",
              "\n",
              "    <script>\n",
              "      const buttonEl =\n",
              "        document.querySelector('#df-fc0e249d-c32e-49c3-a49d-73212b3b5f14 button.colab-df-convert');\n",
              "      buttonEl.style.display =\n",
              "        google.colab.kernel.accessAllowed ? 'block' : 'none';\n",
              "\n",
              "      async function convertToInteractive(key) {\n",
              "        const element = document.querySelector('#df-fc0e249d-c32e-49c3-a49d-73212b3b5f14');\n",
              "        const dataTable =\n",
              "          await google.colab.kernel.invokeFunction('convertToInteractive',\n",
              "                                                    [key], {});\n",
              "        if (!dataTable) return;\n",
              "\n",
              "        const docLinkHtml = 'Like what you see? Visit the ' +\n",
              "          '<a target=\"_blank\" href=https://colab.research.google.com/notebooks/data_table.ipynb>data table notebook</a>'\n",
              "          + ' to learn more about interactive tables.';\n",
              "        element.innerHTML = '';\n",
              "        dataTable['output_type'] = 'display_data';\n",
              "        await google.colab.output.renderOutput(dataTable, element);\n",
              "        const docLink = document.createElement('div');\n",
              "        docLink.innerHTML = docLinkHtml;\n",
              "        element.appendChild(docLink);\n",
              "      }\n",
              "    </script>\n",
              "  </div>\n",
              "\n",
              "\n",
              "<div id=\"df-d994f4f8-fa6c-4f23-a06a-445a6fa4a073\">\n",
              "  <button class=\"colab-df-quickchart\" onclick=\"quickchart('df-d994f4f8-fa6c-4f23-a06a-445a6fa4a073')\"\n",
              "            title=\"Suggest charts.\"\n",
              "            style=\"display:none;\">\n",
              "\n",
              "<svg xmlns=\"http://www.w3.org/2000/svg\" height=\"24px\"viewBox=\"0 0 24 24\"\n",
              "     width=\"24px\">\n",
              "    <g>\n",
              "        <path d=\"M19 3H5c-1.1 0-2 .9-2 2v14c0 1.1.9 2 2 2h14c1.1 0 2-.9 2-2V5c0-1.1-.9-2-2-2zM9 17H7v-7h2v7zm4 0h-2V7h2v10zm4 0h-2v-4h2v4z\"/>\n",
              "    </g>\n",
              "</svg>\n",
              "  </button>\n",
              "\n",
              "<style>\n",
              "  .colab-df-quickchart {\n",
              "      --bg-color: #E8F0FE;\n",
              "      --fill-color: #1967D2;\n",
              "      --hover-bg-color: #E2EBFA;\n",
              "      --hover-fill-color: #174EA6;\n",
              "      --disabled-fill-color: #AAA;\n",
              "      --disabled-bg-color: #DDD;\n",
              "  }\n",
              "\n",
              "  [theme=dark] .colab-df-quickchart {\n",
              "      --bg-color: #3B4455;\n",
              "      --fill-color: #D2E3FC;\n",
              "      --hover-bg-color: #434B5C;\n",
              "      --hover-fill-color: #FFFFFF;\n",
              "      --disabled-bg-color: #3B4455;\n",
              "      --disabled-fill-color: #666;\n",
              "  }\n",
              "\n",
              "  .colab-df-quickchart {\n",
              "    background-color: var(--bg-color);\n",
              "    border: none;\n",
              "    border-radius: 50%;\n",
              "    cursor: pointer;\n",
              "    display: none;\n",
              "    fill: var(--fill-color);\n",
              "    height: 32px;\n",
              "    padding: 0;\n",
              "    width: 32px;\n",
              "  }\n",
              "\n",
              "  .colab-df-quickchart:hover {\n",
              "    background-color: var(--hover-bg-color);\n",
              "    box-shadow: 0 1px 2px rgba(60, 64, 67, 0.3), 0 1px 3px 1px rgba(60, 64, 67, 0.15);\n",
              "    fill: var(--button-hover-fill-color);\n",
              "  }\n",
              "\n",
              "  .colab-df-quickchart-complete:disabled,\n",
              "  .colab-df-quickchart-complete:disabled:hover {\n",
              "    background-color: var(--disabled-bg-color);\n",
              "    fill: var(--disabled-fill-color);\n",
              "    box-shadow: none;\n",
              "  }\n",
              "\n",
              "  .colab-df-spinner {\n",
              "    border: 2px solid var(--fill-color);\n",
              "    border-color: transparent;\n",
              "    border-bottom-color: var(--fill-color);\n",
              "    animation:\n",
              "      spin 1s steps(1) infinite;\n",
              "  }\n",
              "\n",
              "  @keyframes spin {\n",
              "    0% {\n",
              "      border-color: transparent;\n",
              "      border-bottom-color: var(--fill-color);\n",
              "      border-left-color: var(--fill-color);\n",
              "    }\n",
              "    20% {\n",
              "      border-color: transparent;\n",
              "      border-left-color: var(--fill-color);\n",
              "      border-top-color: var(--fill-color);\n",
              "    }\n",
              "    30% {\n",
              "      border-color: transparent;\n",
              "      border-left-color: var(--fill-color);\n",
              "      border-top-color: var(--fill-color);\n",
              "      border-right-color: var(--fill-color);\n",
              "    }\n",
              "    40% {\n",
              "      border-color: transparent;\n",
              "      border-right-color: var(--fill-color);\n",
              "      border-top-color: var(--fill-color);\n",
              "    }\n",
              "    60% {\n",
              "      border-color: transparent;\n",
              "      border-right-color: var(--fill-color);\n",
              "    }\n",
              "    80% {\n",
              "      border-color: transparent;\n",
              "      border-right-color: var(--fill-color);\n",
              "      border-bottom-color: var(--fill-color);\n",
              "    }\n",
              "    90% {\n",
              "      border-color: transparent;\n",
              "      border-bottom-color: var(--fill-color);\n",
              "    }\n",
              "  }\n",
              "</style>\n",
              "\n",
              "  <script>\n",
              "    async function quickchart(key) {\n",
              "      const quickchartButtonEl =\n",
              "        document.querySelector('#' + key + ' button');\n",
              "      quickchartButtonEl.disabled = true;  // To prevent multiple clicks.\n",
              "      quickchartButtonEl.classList.add('colab-df-spinner');\n",
              "      try {\n",
              "        const charts = await google.colab.kernel.invokeFunction(\n",
              "            'suggestCharts', [key], {});\n",
              "      } catch (error) {\n",
              "        console.error('Error during call to suggestCharts:', error);\n",
              "      }\n",
              "      quickchartButtonEl.classList.remove('colab-df-spinner');\n",
              "      quickchartButtonEl.classList.add('colab-df-quickchart-complete');\n",
              "    }\n",
              "    (() => {\n",
              "      let quickchartButtonEl =\n",
              "        document.querySelector('#df-d994f4f8-fa6c-4f23-a06a-445a6fa4a073 button');\n",
              "      quickchartButtonEl.style.display =\n",
              "        google.colab.kernel.accessAllowed ? 'block' : 'none';\n",
              "    })();\n",
              "  </script>\n",
              "</div>\n",
              "    </div>\n",
              "  </div>\n"
            ]
          },
          "metadata": {},
          "execution_count": 16
        }
      ]
    },
    {
      "cell_type": "code",
      "source": [
        "comp.describe"
      ],
      "metadata": {
        "colab": {
          "base_uri": "https://localhost:8080/"
        },
        "id": "xVflmqAJ8SG7",
        "outputId": "1cf15af7-0fd5-4d34-bb58-929391f7c2b7"
      },
      "execution_count": 19,
      "outputs": [
        {
          "output_type": "execute_result",
          "data": {
            "text/plain": [
              "<bound method NDFrame.describe of     competition_id  season_id   country_name     competition_name  \\\n",
              "1               16          4         Europe     Champions League   \n",
              "2               16          1         Europe     Champions League   \n",
              "26              43        106  International       FIFA World Cup   \n",
              "27              43          3  International       FIFA World Cup   \n",
              "34            1238        108          India  Indian Super league   \n",
              "35              11         90          Spain              La Liga   \n",
              "36              11         42          Spain              La Liga   \n",
              "37              11          4          Spain              La Liga   \n",
              "38              11          1          Spain              La Liga   \n",
              "62              55         43         Europe            UEFA Euro   \n",
              "\n",
              "   competition_gender  competition_youth  competition_international  \\\n",
              "1                male              False                      False   \n",
              "2                male              False                      False   \n",
              "26               male              False                       True   \n",
              "27               male              False                       True   \n",
              "34               male              False                      False   \n",
              "35               male              False                      False   \n",
              "36               male              False                      False   \n",
              "37               male              False                      False   \n",
              "38               male              False                      False   \n",
              "62               male              False                       True   \n",
              "\n",
              "   season_name               match_updated           match_updated_360  \\\n",
              "1    2018/2019  2023-03-07T12:20:48.118250     2021-06-13T16:17:31.694   \n",
              "2    2017/2018  2021-08-27T11:26:39.802832     2021-06-13T16:17:31.694   \n",
              "26        2022  2023-08-12T16:44:27.619465  2023-08-17T15:55:15.164685   \n",
              "27        2018  2023-07-24T13:09:34.513519     2021-06-13T16:17:31.694   \n",
              "34   2021/2022  2023-03-31T02:14:09.896947                        None   \n",
              "35   2020/2021  2023-07-26T14:11:01.312143  2023-07-26T14:15:15.217027   \n",
              "36   2019/2020  2023-07-25T00:16:32.999467     2021-06-13T16:17:31.694   \n",
              "37   2018/2019  2023-08-03T02:24:43.761907  2021-07-09T14:53:22.103024   \n",
              "38   2017/2018  2023-07-24T13:03:48.574627     2021-06-13T16:17:31.694   \n",
              "62        2020  2023-02-24T21:26:47.128979  2023-04-27T22:38:34.970148   \n",
              "\n",
              "           match_available_360             match_available  \n",
              "1                         None  2023-03-07T12:20:48.118250  \n",
              "2                         None  2021-01-23T21:55:30.425330  \n",
              "26  2023-08-17T15:55:15.164685  2023-08-12T16:44:27.619465  \n",
              "27                        None  2023-07-24T13:09:34.513519  \n",
              "34                        None  2023-03-31T02:14:09.896947  \n",
              "35  2023-07-26T14:15:15.217027  2023-07-26T14:11:01.312143  \n",
              "36                        None  2023-07-25T00:16:32.999467  \n",
              "37                        None  2023-08-03T02:24:43.761907  \n",
              "38                        None  2023-07-24T13:03:48.574627  \n",
              "62  2023-04-27T22:38:34.970148  2023-02-24T21:26:47.128979  >"
            ]
          },
          "metadata": {},
          "execution_count": 19
        }
      ]
    },
    {
      "cell_type": "code",
      "source": [
        "#Egy olyan lista létrehozása, aminek elemei szintén listák és minden ilyen allista egy versenysorozatot tartalmaz. Az allisták egy eleme egy meccs.\n",
        "competitionList = []\n",
        "for index, row in comp.iterrows():\n",
        "  matchesDF=pd.read_json(\"drive/MyDrive/MSC_Onlab/open-data-master/data/matches/\" + str(row[\"competition_id\"]) + \"/\" + str(row[\"season_id\"]) + \".json\")\n",
        "  matchDFList = []\n",
        "  for index, row2 in matchesDF.iterrows():\n",
        "    matchDF = pd.read_json(\"drive/MyDrive/MSC_Onlab/open-data-master/data/events/\" + str(row2[\"match_id\"]) +\".json\")\n",
        "    matchID = [row2[\"match_id\"]] * len(matchDF)\n",
        "    competitionID = [row[\"competition_id\"]] * len(matchDF)\n",
        "    competitionName = [row[\"competition_name\"]] * len(matchDF)\n",
        "    matchDF[\"match_id\"] = matchID\n",
        "    matchDF[\"competition_id\"] = competitionID\n",
        "    matchDF[\"competition_name\"] = competitionName\n",
        "    matchDFList.append(matchDF)\n",
        "  competitionList.append(matchDFList)"
      ],
      "metadata": {
        "id": "5meZ8R1h6s5m"
      },
      "execution_count": 5,
      "outputs": []
    },
    {
      "cell_type": "code",
      "source": [
        "competition_DF_list = []\n",
        "for compet in competitionList:\n",
        "  competDF = pd.concat(compet)\n",
        "  competition_DF_list.append(competDF)\n"
      ],
      "metadata": {
        "id": "kWDnILk78O-r"
      },
      "execution_count": 10,
      "outputs": []
    },
    {
      "cell_type": "code",
      "source": [
        "competition_DF_list[0].dtypes\n"
      ],
      "metadata": {
        "colab": {
          "base_uri": "https://localhost:8080/"
        },
        "id": "WZKjBx7T92II",
        "outputId": "609c38c8-f498-483f-ca05-c9010eadd7fc"
      },
      "execution_count": 33,
      "outputs": [
        {
          "output_type": "execute_result",
          "data": {
            "text/plain": [
              "id                          object\n",
              "index                        int64\n",
              "period                       int64\n",
              "timestamp           datetime64[ns]\n",
              "minute                       int64\n",
              "second                       int64\n",
              "type                        object\n",
              "possession                   int64\n",
              "possession_team             object\n",
              "play_pattern                object\n",
              "team                        object\n",
              "duration                   float64\n",
              "tactics                     object\n",
              "related_events              object\n",
              "player                      object\n",
              "position                    object\n",
              "location                    object\n",
              "pass                        object\n",
              "carry                       object\n",
              "ball_receipt                object\n",
              "under_pressure             float64\n",
              "duel                        object\n",
              "foul_committed              object\n",
              "shot                        object\n",
              "goalkeeper                  object\n",
              "off_camera                 float64\n",
              "clearance                   object\n",
              "foul_won                    object\n",
              "interception                object\n",
              "ball_recovery               object\n",
              "counterpress               float64\n",
              "out                        float64\n",
              "dribble                     object\n",
              "50_50                       object\n",
              "substitution                object\n",
              "block                       object\n",
              "match_id                     int64\n",
              "competition_id               int64\n",
              "competition_name            object\n",
              "dtype: object"
            ]
          },
          "metadata": {},
          "execution_count": 33
        }
      ]
    },
    {
      "cell_type": "code",
      "source": [
        "competition_DF_list[0][\"type\"].value_counts()"
      ],
      "metadata": {
        "colab": {
          "base_uri": "https://localhost:8080/"
        },
        "id": "i4SqRgjilmCT",
        "outputId": "4a58b79c-6c1e-4689-c58e-a6c0c14f6907"
      },
      "execution_count": 12,
      "outputs": [
        {
          "output_type": "execute_result",
          "data": {
            "text/plain": [
              "{'id': 30, 'name': 'Pass'}                 890\n",
              "{'id': 42, 'name': 'Ball Receipt*'}        846\n",
              "{'id': 43, 'name': 'Carry'}                669\n",
              "{'id': 17, 'name': 'Pressure'}             314\n",
              "{'id': 2, 'name': 'Ball Recovery'}         100\n",
              "{'id': 4, 'name': 'Duel'}                   56\n",
              "{'id': 9, 'name': 'Clearance'}              51\n",
              "{'id': 23, 'name': 'Goal Keeper'}           38\n",
              "{'id': 16, 'name': 'Shot'}                  30\n",
              "{'id': 6, 'name': 'Block'}                  25\n",
              "{'id': 38, 'name': 'Miscontrol'}            22\n",
              "{'id': 3, 'name': 'Dispossessed'}           19\n",
              "{'id': 10, 'name': 'Interception'}          15\n",
              "{'id': 22, 'name': 'Foul Committed'}        15\n",
              "{'id': 14, 'name': 'Dribble'}               15\n",
              "{'id': 21, 'name': 'Foul Won'}              12\n",
              "{'id': 39, 'name': 'Dribbled Past'}         10\n",
              "{'id': 33, 'name': '50/50'}                  6\n",
              "{'id': 19, 'name': 'Substitution'}           6\n",
              "{'id': 28, 'name': 'Shield'}                 5\n",
              "{'id': 18, 'name': 'Half Start'}             4\n",
              "{'id': 40, 'name': 'Injury Stoppage'}        4\n",
              "{'id': 36, 'name': 'Tactical Shift'}         4\n",
              "{'id': 34, 'name': 'Half End'}               4\n",
              "{'id': 35, 'name': 'Starting XI'}            2\n",
              "{'id': 41, 'name': 'Referee Ball-Drop'}      2\n",
              "{'id': 8, 'name': 'Offside'}                 1\n",
              "Name: type, dtype: int64"
            ]
          },
          "metadata": {},
          "execution_count": 12
        }
      ]
    },
    {
      "cell_type": "code",
      "source": [
        "sum(competition_DF_list[0][\"type\"].isna())"
      ],
      "metadata": {
        "colab": {
          "base_uri": "https://localhost:8080/"
        },
        "id": "qIeV8fjalx2Y",
        "outputId": "15cc50b4-335b-4a4b-e435-f09694677eda"
      },
      "execution_count": 14,
      "outputs": [
        {
          "output_type": "execute_result",
          "data": {
            "text/plain": [
              "0"
            ]
          },
          "metadata": {},
          "execution_count": 14
        }
      ]
    }
  ]
}